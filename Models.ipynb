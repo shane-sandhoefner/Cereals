{
 "cells": [
  {
   "cell_type": "markdown",
   "metadata": {},
   "source": [
    "## Build Models"
   ]
  },
  {
   "cell_type": "markdown",
   "metadata": {},
   "source": [
    "In this notebook, I will read in the preprocessed data and try out a few different models."
   ]
  },
  {
   "cell_type": "code",
   "execution_count": 1,
   "metadata": {},
   "outputs": [],
   "source": [
    "# Import libraries\n",
    "import pandas as pd\n",
    "import numpy as np\n",
    "import matplotlib.pyplot as plt\n",
    "from sklearn.tree import DecisionTreeRegressor\n",
    "from sklearn.metrics import mean_absolute_error\n",
    "from sklearn.model_selection import GridSearchCV\n",
    "from sklearn.ensemble import RandomForestRegressor\n",
    "from xgboost import XGBRegressor"
   ]
  },
  {
   "cell_type": "code",
   "execution_count": 2,
   "metadata": {},
   "outputs": [],
   "source": [
    "# Import train data\n",
    "X_train = pd.read_csv('X_train.csv')\n",
    "y_train = pd.read_csv('y_train.csv')\n",
    "\n",
    "# Import test data\n",
    "X_test = pd.read_csv('X_test.csv')\n",
    "y_test = pd.read_csv('y_test.csv')"
   ]
  },
  {
   "cell_type": "code",
   "execution_count": 9,
   "metadata": {},
   "outputs": [
    {
     "name": "stdout",
     "output_type": "stream",
     "text": [
      "Decision Tree Regressor mean absolute error:\n",
      "4.609177466666665\n"
     ]
    }
   ],
   "source": [
    "# Define function to compute mean absolute error for Decision Tree Regressor\n",
    "def score_DTR(X_train, X_test, y_train, y_test):\n",
    "    model = DecisionTreeRegressor()\n",
    "    model.fit(X_train, y_train)\n",
    "    predictions = model.predict(X_test)\n",
    "    return mean_absolute_error(y_test, predictions)\n",
    "\n",
    "# Print mean absolute error\n",
    "print(\"Decision Tree Regressor mean absolute error:\") \n",
    "print(score_DTR(X_train, X_test, y_train, y_test))"
   ]
  },
  {
   "cell_type": "code",
   "execution_count": 4,
   "metadata": {},
   "outputs": [
    {
     "data": {
      "text/plain": [
       "{'n_estimators': 200}"
      ]
     },
     "execution_count": 4,
     "metadata": {},
     "output_type": "execute_result"
    }
   ],
   "source": [
    "# Use GridSearchCV to find best values for n_estimators for Random Forest Regressor\n",
    "parameter = {\n",
    "    'n_estimators' : [10, 50, 100, 200],\n",
    "}\n",
    "\n",
    "RFR = RandomForestRegressor()\n",
    "RFR_CV = GridSearchCV(RFR, parameter).fit(X_train, np.ravel(y_train))\n",
    "RFR_CV.best_params_"
   ]
  },
  {
   "cell_type": "code",
   "execution_count": 10,
   "metadata": {},
   "outputs": [
    {
     "name": "stdout",
     "output_type": "stream",
     "text": [
      "Random Forest Regressor mean absolute error:\n",
      "3.6346501080000033\n"
     ]
    }
   ],
   "source": [
    "# Define function to compute mean absolute error for Random Forest Regressor\n",
    "def score_RFR(X_train, X_test, y_train, y_test):\n",
    "    model = RandomForestRegressor(n_estimators=200)\n",
    "    model.fit(X_train, np.ravel(y_train))\n",
    "    predictions = model.predict(X_test)\n",
    "    return mean_absolute_error(y_test, predictions)\n",
    "\n",
    "# Print mean absolute error\n",
    "print(\"Random Forest Regressor mean absolute error:\") \n",
    "print(score_RFR(X_train, X_test, y_train, y_test))"
   ]
  },
  {
   "cell_type": "code",
   "execution_count": 6,
   "metadata": {},
   "outputs": [
    {
     "data": {
      "text/plain": [
       "{'learning_rate': 0.115, 'n_estimators': 200}"
      ]
     },
     "execution_count": 6,
     "metadata": {},
     "output_type": "execute_result"
    }
   ],
   "source": [
    "# Use GridSearchCV to find best values for n_estimators, learning_rate for XGBoost Regressor\n",
    "parameters = {\n",
    "    'n_estimators' : [200, 300, 400, 500],\n",
    "    'learning_rate' : [0.05, 0.075, 0.09, 0.115]\n",
    "}\n",
    "\n",
    "XGB = XGBRegressor()\n",
    "XGB_CV = GridSearchCV(XGB, parameters).fit(X_train, y_train)\n",
    "XGB_CV.best_params_"
   ]
  },
  {
   "cell_type": "code",
   "execution_count": 11,
   "metadata": {},
   "outputs": [
    {
     "name": "stdout",
     "output_type": "stream",
     "text": [
      "XGBoost Regressor mean absolute error:\n",
      "3.123175854500325\n"
     ]
    }
   ],
   "source": [
    "# Define function to compute mean absolute error for XGBoost Regressor\n",
    "def score_XGB(X_train, X_test, y_train, y_test):\n",
    "    model = XGBRegressor(n_estimators=200, learning_rate=0.115)\n",
    "    model.fit(X_train, y_train)\n",
    "    predictions = model.predict(X_test)\n",
    "    return mean_absolute_error(y_test, predictions)\n",
    "\n",
    "# Print mean absolute error\n",
    "print(\"XGBoost Regressor mean absolute error:\") \n",
    "print(score_XGB(X_train, X_test, y_train, y_test))"
   ]
  },
  {
   "cell_type": "markdown",
   "metadata": {},
   "source": [
    "We see that the best (lowest) mean absolute error is for the XGBoost Regressor, followed by the Random Forest Regressor, and finally the Decision Tree Regressor."
   ]
  }
 ],
 "metadata": {
  "kernelspec": {
   "display_name": "Python 3",
   "language": "python",
   "name": "python3"
  },
  "language_info": {
   "codemirror_mode": {
    "name": "ipython",
    "version": 3
   },
   "file_extension": ".py",
   "mimetype": "text/x-python",
   "name": "python",
   "nbconvert_exporter": "python",
   "pygments_lexer": "ipython3",
   "version": "3.8.5"
  }
 },
 "nbformat": 4,
 "nbformat_minor": 4
}
